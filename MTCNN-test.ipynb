{
 "cells": [
  {
   "cell_type": "code",
   "execution_count": null,
   "metadata": {},
   "outputs": [],
   "source": [
    "from mtcnn import MTCNN\n",
    "import cv2\n",
    "import os\n",
    "# plotly to show image\n",
    "import plotly.graph_objects as go"
   ]
  },
  {
   "cell_type": "code",
   "execution_count": null,
   "metadata": {},
   "outputs": [],
   "source": [
    "detector = MTCNN()"
   ]
  },
  {
   "cell_type": "code",
   "execution_count": null,
   "metadata": {},
   "outputs": [],
   "source": [
    "DIRPATH = \"imgs/weibo/BadMood919\"\n",
    "for file in os.listdir(DIRPATH):\n",
    "    if file.lower().endswith(\".jpg\"):\n",
    "        imgpath = f\"{DIRPATH}/{file}\"\n",
    "        break\n",
    "img = cv2.imread(imgpath)\n",
    "img = cv2.cvtColor(img, cv2.COLOR_BGR2RGB)\n",
    "go.Figure(data=[go.Image(z=img)]).show()\n",
    "imgpath"
   ]
  },
  {
   "cell_type": "code",
   "execution_count": null,
   "metadata": {},
   "outputs": [],
   "source": [
    "result = detector.detect_faces(img)"
   ]
  },
  {
   "cell_type": "code",
   "execution_count": null,
   "metadata": {},
   "outputs": [],
   "source": [
    "result"
   ]
  },
  {
   "cell_type": "code",
   "execution_count": null,
   "metadata": {},
   "outputs": [],
   "source": [
    "# draw bounding box, and also around the eyes, nose, and mouth\n",
    "def draw_bounding_box(face, img):\n",
    "    x, y, w, h = face[\"box\"]\n",
    "    cv2.rectangle(img, (x, y), (x+w, y+h), (0, 255, 0), 2)\n",
    "    for key, value in face[\"keypoints\"].items():\n",
    "        cv2.circle(img, value, 2, (0, 255, 0), 2)\n",
    "    return img\n",
    "\n",
    "for face in result:\n",
    "    withFace = draw_bounding_box(face, img)\n",
    "go.Figure(data=[go.Image(z=withFace)]).show()"
   ]
  }
 ],
 "metadata": {
  "kernelspec": {
   "display_name": "venv",
   "language": "python",
   "name": "python3"
  },
  "language_info": {
   "codemirror_mode": {
    "name": "ipython",
    "version": 3
   },
   "file_extension": ".py",
   "mimetype": "text/x-python",
   "name": "python",
   "nbconvert_exporter": "python",
   "pygments_lexer": "ipython3",
   "version": "3.11.6"
  }
 },
 "nbformat": 4,
 "nbformat_minor": 2
}
