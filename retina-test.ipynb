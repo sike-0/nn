{
 "cells": [
  {
   "cell_type": "code",
   "execution_count": null,
   "metadata": {},
   "outputs": [],
   "source": [
    "import cv2\n",
    "from retinaface import RetinaFace\n",
    "import os\n",
    "import plotly.graph_objects as go\n",
    "\n",
    "# Load the image\n",
    "dir = 'imgs/BadMood919'\n",
    "image_path = os.path.join(dir, os.listdir(dir)[0])\n",
    "image = cv2.imread(image_path)\n",
    "\n",
    "# Detect faces using RetinaFace\n",
    "faces = RetinaFace.detect_faces(image)"
   ]
  },
  {
   "cell_type": "code",
   "execution_count": null,
   "metadata": {},
   "outputs": [],
   "source": [
    "faces"
   ]
  },
  {
   "cell_type": "code",
   "execution_count": null,
   "metadata": {},
   "outputs": [],
   "source": [
    "image = cv2.cvtColor(image, cv2.COLOR_BGR2RGB)\n",
    "for face in faces:\n",
    "    area = faces[face]['facial_area']\n",
    "    x, y, w, h = area\n",
    "    cv2.rectangle(image, (x, y), (w, h), (255, 0, 0), 2)\n",
    "\n",
    "\n",
    "# Display the image\n",
    "go.Figure(data=[go.Image(z=image)]).show()"
   ]
  }
 ],
 "metadata": {
  "kernelspec": {
   "display_name": "venv",
   "language": "python",
   "name": "python3"
  },
  "language_info": {
   "codemirror_mode": {
    "name": "ipython",
    "version": 3
   },
   "file_extension": ".py",
   "mimetype": "text/x-python",
   "name": "python",
   "nbconvert_exporter": "python",
   "pygments_lexer": "ipython3",
   "version": "3.10.12"
  }
 },
 "nbformat": 4,
 "nbformat_minor": 2
}
